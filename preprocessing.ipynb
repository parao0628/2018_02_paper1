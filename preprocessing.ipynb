{
 "cells": [
  {
   "cell_type": "code",
   "execution_count": 1,
   "metadata": {
    "collapsed": true
   },
   "outputs": [],
   "source": [
    "import numpy as np\n",
    "import random\n",
    "import csv\n",
    "import string\n",
    "import nltk\n",
    "import pickle"
   ]
  },
  {
   "cell_type": "code",
   "execution_count": 2,
   "metadata": {
    "collapsed": true
   },
   "outputs": [],
   "source": [
    "x_data = dict()\n",
    "y_data = dict()\n",
    "x_uni_data = dict()\n",
    "x_uni_data = dict()\n",
    "x_bi_data = dict()\n",
    "x_bi_data = dict()\n",
    "\n",
    "x_data['train'] = list()\n",
    "x_data['test'] = list()\n",
    "x_uni_data['train'] = list()\n",
    "x_uni_data['test'] = list()\n",
    "x_bi_data['train'] = list()\n",
    "x_bi_data['test'] = list()\n",
    "\n",
    "y_data['train'] = list()\n",
    "y_data['test'] = list()\n",
    "\n",
    "word2ID = dict()\n",
    "ID2word = dict()\n",
    "\n",
    "word2ID['<UNK>'] = 0\n",
    "ID2word[0] = '<UNK>'\n",
    "idx = 1\n",
    "\n",
    "with open('./data/train.csv', mode='rb') as file_:\n",
    "    reader = csv.reader(file_)\n",
    "    for rows in reader:\n",
    "        texts = rows[1]+' '+rows[2]\n",
    "        texts = texts.lower()\n",
    "        texts = ''.join(c for c in texts if c not in string.punctuation)\n",
    "        texts = ''.join(c for c in texts if texts not in '0123456789')\n",
    "        texts = ' '.join(texts.split())\n",
    "        x_data['train'].append(texts)\n",
    "        words = nltk.word_tokenize(texts)\n",
    "        bi_words = list()\n",
    "        for wid, word in enumerate(words):\n",
    "            if word in word2ID:\n",
    "                pass\n",
    "            else:\n",
    "                word2ID[word] = idx\n",
    "                ID2word[idx] = word\n",
    "                idx += 1\n",
    "            if wid < len(words) - 1:\n",
    "                bi_word = word + ' ' + words[wid+1]\n",
    "                bi_words.append(bi_word)\n",
    "                if bi_word in word2ID:\n",
    "                    pass\n",
    "                else:\n",
    "                    word2ID[bi_word] = idx\n",
    "                    ID2word[idx] = bi_word\n",
    "                    idx += 1\n",
    "                    \n",
    "        x_uni_data['train'].append([word2ID[_] for _ in words])\n",
    "        x_bi_data['train'].append([word2ID[_] for _ in bi_words])\n",
    "        \n",
    "        y_data['train'].append(int(rows[0])-1)\n",
    "        \n",
    "with open('./data/test.csv', mode='rb') as file_:\n",
    "    reader = csv.reader(file_)\n",
    "    for rows in reader:\n",
    "        texts = rows[1]+' '+rows[2]\n",
    "        texts = texts.lower()\n",
    "        texts = ''.join(c for c in texts if c not in string.punctuation)\n",
    "        texts = ''.join(c for c in texts if texts not in '0123456789')\n",
    "        texts = ' '.join(texts.split())\n",
    "        x_data['test'].append(texts)\n",
    "        words = nltk.word_tokenize(texts)\n",
    "        bi_words = list()\n",
    "        for wid, word in enumerate(words):\n",
    "            if wid < len(words) - 1:\n",
    "                bi_word = words[wid] + ' ' + words[wid+1]\n",
    "                bi_words.append(bi_word)\n",
    "                    \n",
    "        x_uni_data['test'].append([(word2ID[_] if _ in word2ID else word2ID['<UNK>']) for _ in words])\n",
    "        x_bi_data['test'].append([(word2ID[_] if _ in word2ID else word2ID['<UNK>']) for _ in bi_words])\n",
    "        y_data['test'].append(int(rows[0])-1)"
   ]
  },
  {
   "cell_type": "code",
   "execution_count": 3,
   "metadata": {
    "collapsed": true
   },
   "outputs": [],
   "source": [
    "xid_data = dict()                        \n",
    "for dtype in x_uni_data:                    \n",
    "    xid_data[dtype] = list()             \n",
    "    for uni, bi in zip(x_uni_data[dtype], x_bi_data[dtype]):\n",
    "        temp = list()\n",
    "        temp.extend(uni)\n",
    "        temp.extend(bi)\n",
    "        xid_data[dtype].append(temp)  "
   ]
  },
  {
   "cell_type": "code",
   "execution_count": 4,
   "metadata": {},
   "outputs": [
    {
     "data": {
      "text/plain": [
       "1374011"
      ]
     },
     "execution_count": 4,
     "metadata": {},
     "output_type": "execute_result"
    }
   ],
   "source": [
    "len(word2ID)"
   ]
  },
  {
   "cell_type": "code",
   "execution_count": 5,
   "metadata": {
    "collapsed": true
   },
   "outputs": [],
   "source": [
    "pickle.dump(y_data,open('./data/y_data.pickle','wb'))\n",
    "pickle.dump(xid_data,open('./data/x_data.pickle','wb'))\n",
    "pickle.dump(word2ID,open('./data/word2ID.pickle','wb'))"
   ]
  }
 ],
 "metadata": {
  "kernelspec": {
   "display_name": "Python 2",
   "language": "python",
   "name": "python2"
  },
  "language_info": {
   "codemirror_mode": {
    "name": "ipython",
    "version": 2
   },
   "file_extension": ".py",
   "mimetype": "text/x-python",
   "name": "python",
   "nbconvert_exporter": "python",
   "pygments_lexer": "ipython2",
   "version": "2.7.12"
  }
 },
 "nbformat": 4,
 "nbformat_minor": 2
}
